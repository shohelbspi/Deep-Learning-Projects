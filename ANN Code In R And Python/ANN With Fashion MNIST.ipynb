{
 "cells": [
  {
   "cell_type": "code",
   "execution_count": 1,
   "id": "reliable-television",
   "metadata": {},
   "outputs": [],
   "source": [
    "import numpy as np\n",
    "import pandas as pd\n",
    "import matplotlib.pyplot as plt\n",
    "%matplotlib inline"
   ]
  },
  {
   "cell_type": "code",
   "execution_count": 2,
   "id": "patent-bible",
   "metadata": {},
   "outputs": [],
   "source": [
    "import keras\n",
    "fashion_mnist = keras.datasets.fashion_mnist"
   ]
  },
  {
   "cell_type": "code",
   "execution_count": 3,
   "id": "obvious-sailing",
   "metadata": {},
   "outputs": [],
   "source": [
    "(x_train,y_train), (x_test,y_test) = fashion_mnist.load_data()"
   ]
  },
  {
   "cell_type": "code",
   "execution_count": 4,
   "id": "further-consultancy",
   "metadata": {},
   "outputs": [
    {
     "data": {
      "text/plain": [
       "<matplotlib.image.AxesImage at 0x174ea59b3a0>"
      ]
     },
     "execution_count": 4,
     "metadata": {},
     "output_type": "execute_result"
    },
    {
     "data": {
      "image/png": "[encoded data removed]",
      "text/plain": [
       "<Figure size 432x288 with 1 Axes>"
      ]
     },
     "metadata": {
      "needs_background": "light"
     },
     "output_type": "display_data"
    }
   ],
   "source": [
    "plt.imshow(x_train[1])"
   ]
  },
  {
   "cell_type": "code",
   "execution_count": 5,
   "id": "first-promotion",
   "metadata": {},
   "outputs": [
    {
     "data": {
      "text/plain": [
       "0"
      ]
     },
     "execution_count": 5,
     "metadata": {},
     "output_type": "execute_result"
    }
   ],
   "source": [
    "y_train[1]"
   ]
  },
  {
   "cell_type": "raw",
   "id": "raising-railway",
   "metadata": {},
   "source": [
    "Classes in Fashion Mnist dataset \n",
    "\n",
    "0\tT-shirt/top \n",
    "1\tTrouser \n",
    "2\tPullover \n",
    "3\tDress \n",
    "4\tCoat \n",
    "5\tSandal \n",
    "6\tShirt \n",
    "7\tSneaker \n",
    "8\tBag \n",
    "9\tAnkle boot "
   ]
  },
  {
   "cell_type": "code",
   "execution_count": 6,
   "id": "flexible-statistics",
   "metadata": {},
   "outputs": [],
   "source": [
    "class_names = ['T-shirt/top','Trouser','Pullover','Dress','Coat','Sandal','Shirt','Sneaker','Bag','Ankle boot']"
   ]
  },
  {
   "cell_type": "code",
   "execution_count": 7,
   "id": "crucial-kitty",
   "metadata": {},
   "outputs": [
    {
     "data": {
      "text/plain": [
       "'Ankle boot'"
      ]
     },
     "execution_count": 7,
     "metadata": {},
     "output_type": "execute_result"
    }
   ],
   "source": [
    "class_names[y_train[0]]"
   ]
  },
  {
   "cell_type": "code",
   "execution_count": 8,
   "id": "superior-carroll",
   "metadata": {},
   "outputs": [
    {
     "data": {
      "text/plain": [
       "<matplotlib.image.AxesImage at 0x174ea8d68e0>"
      ]
     },
     "execution_count": 8,
     "metadata": {},
     "output_type": "execute_result"
    },
    {
     "data": {
      "image/png": "[encoded data removed]",
      "text/plain": [
       "<Figure size 432x288 with 1 Axes>"
      ]
     },
     "metadata": {
      "needs_background": "light"
     },
     "output_type": "display_data"
    }
   ],
   "source": [
    "plt.imshow(x_train[10])"
   ]
  },
  {
   "cell_type": "code",
   "execution_count": 9,
   "id": "funny-bronze",
   "metadata": {},
   "outputs": [
    {
     "data": {
      "text/plain": [
       "0"
      ]
     },
     "execution_count": 9,
     "metadata": {},
     "output_type": "execute_result"
    }
   ],
   "source": [
    "y_train[10]"
   ]
  },
  {
   "cell_type": "markdown",
   "id": "economic-blame",
   "metadata": {},
   "source": [
    "# Data Normalize"
   ]
  },
  {
   "cell_type": "code",
   "execution_count": 10,
   "id": "medieval-sheep",
   "metadata": {},
   "outputs": [],
   "source": [
    "x_train = x_train/255.\n",
    "x_test  = x_test/255."
   ]
  },
  {
   "cell_type": "code",
   "execution_count": 11,
   "id": "fitting-standing",
   "metadata": {},
   "outputs": [
    {
     "name": "stdout",
     "output_type": "stream",
     "text": [
      "(60000, 28, 28)\n",
      "(10000, 28, 28)\n",
      "(60000,)\n",
      "(10000,)\n"
     ]
    }
   ],
   "source": [
    "print(x_train.shape)\n",
    "print(x_test.shape)\n",
    "print(y_train.shape)\n",
    "print(y_test.shape)"
   ]
  },
  {
   "cell_type": "code",
   "execution_count": 12,
   "id": "increasing-respect",
   "metadata": {},
   "outputs": [],
   "source": [
    "x_valid, x_train = x_train[:5000], x_train[5000:]\n",
    "y_valid, y_train = y_train[:5000], y_train[5000:]"
   ]
  },
  {
   "cell_type": "code",
   "execution_count": 13,
   "id": "incorporate-riding",
   "metadata": {},
   "outputs": [
    {
     "name": "stdout",
     "output_type": "stream",
     "text": [
      "(55000, 28, 28)\n",
      "(5000, 28, 28)\n",
      "(5000,)\n",
      "(55000,)\n"
     ]
    }
   ],
   "source": [
    "print(x_train.shape)\n",
    "print(x_valid.shape)\n",
    "print(y_valid.shape)\n",
    "print(y_train.shape)"
   ]
  },
  {
   "cell_type": "markdown",
   "id": "covered-preference",
   "metadata": {},
   "source": [
    "# Model Create"
   ]
  },
  {
   "cell_type": "code",
   "execution_count": 14,
   "id": "eight-species",
   "metadata": {},
   "outputs": [],
   "source": [
    "from keras.models import Sequential\n",
    "from keras.layers import Dense, Flatten\n",
    "from keras.utils import plot_model\n"
   ]
  },
  {
   "cell_type": "code",
   "execution_count": 15,
   "id": "constant-ethnic",
   "metadata": {},
   "outputs": [],
   "source": [
    "import pydot"
   ]
  },
  {
   "cell_type": "code",
   "execution_count": 16,
   "id": "finished-interstate",
   "metadata": {},
   "outputs": [],
   "source": [
    "model = Sequential()\n",
    "model.add(Flatten(input_shape=[28,28]))\n",
    "model.add(Dense(units=300, kernel_initializer='he_uniform', activation='relu'))\n",
    "model.add(Dense(units=100, kernel_initializer='he_uniform', activation='relu'))\n",
    "model.add(Dense(units=10, kernel_initializer='he_uniform', activation='softmax'))"
   ]
  },
  {
   "cell_type": "code",
   "execution_count": 17,
   "id": "suburban-piano",
   "metadata": {},
   "outputs": [
    {
     "name": "stdout",
     "output_type": "stream",
     "text": [
      "Model: \"sequential\"\n",
      "_________________________________________________________________\n",
      "Layer (type)                 Output Shape              Param #   \n",
      "=================================================================\n",
      "flatten (Flatten)            (None, 784)               0         \n",
      "_________________________________________________________________\n",
      "dense (Dense)                (None, 300)               235500    \n",
      "_________________________________________________________________\n",
      "dense_1 (Dense)              (None, 100)               30100     \n",
      "_________________________________________________________________\n",
      "dense_2 (Dense)              (None, 10)                1010      \n",
      "=================================================================\n",
      "Total params: 266,610\n",
      "Trainable params: 266,610\n",
      "Non-trainable params: 0\n",
      "_________________________________________________________________\n"
     ]
    }
   ],
   "source": [
    "model.summary()"
   ]
  },
  {
   "cell_type": "code",
   "execution_count": 18,
   "id": "gothic-vermont",
   "metadata": {},
   "outputs": [
    {
     "data": {
      "image/png": "[encoded data removed]",
      "text/plain": [
       "<IPython.core.display.Image object>"
      ]
     },
     "execution_count": 18,
     "metadata": {},
     "output_type": "execute_result"
    }
   ],
   "source": [
    "import pydot\n",
    "plot_model(model)"
   ]
  },
  {
   "cell_type": "code",
   "execution_count": 19,
   "id": "ready-mystery",
   "metadata": {},
   "outputs": [],
   "source": [
    "weight, bais = model.layers[1].get_weights()"
   ]
  },
  {
   "cell_type": "code",
   "execution_count": 20,
   "id": "august-intake",
   "metadata": {},
   "outputs": [
    {
     "data": {
      "text/plain": [
       "(784, 300)"
      ]
     },
     "execution_count": 20,
     "metadata": {},
     "output_type": "execute_result"
    }
   ],
   "source": [
    "weight.shape"
   ]
  },
  {
   "cell_type": "code",
   "execution_count": 21,
   "id": "awful-satisfaction",
   "metadata": {},
   "outputs": [
    {
     "data": {
      "text/plain": [
       "array([[ 0.07061284,  0.03687724,  0.04383881, ..., -0.03610064,\n",
       "        -0.01610468, -0.01599941],\n",
       "       [ 0.05743409, -0.05118099, -0.00939952, ..., -0.04572247,\n",
       "        -0.08230761,  0.00962937],\n",
       "       [ 0.07249089, -0.03458611, -0.03485775, ..., -0.02931063,\n",
       "         0.05761812,  0.07458775],\n",
       "       ...,\n",
       "       [ 0.04787884,  0.0444826 ,  0.01099657, ...,  0.0167401 ,\n",
       "        -0.00522655,  0.00498229],\n",
       "       [-0.07570619, -0.02107701,  0.07270869, ...,  0.07375707,\n",
       "         0.07896214,  0.03910398],\n",
       "       [-0.07616755,  0.02111881, -0.08581004, ...,  0.04887236,\n",
       "         0.0053316 ,  0.08317401]], dtype=float32)"
      ]
     },
     "execution_count": 21,
     "metadata": {},
     "output_type": "execute_result"
    }
   ],
   "source": [
    "weight"
   ]
  },
  {
   "cell_type": "code",
   "execution_count": 22,
   "id": "defined-competition",
   "metadata": {},
   "outputs": [
    {
     "data": {
      "text/plain": [
       "(300,)"
      ]
     },
     "execution_count": 22,
     "metadata": {},
     "output_type": "execute_result"
    }
   ],
   "source": [
    "bais.shape"
   ]
  },
  {
   "cell_type": "code",
   "execution_count": 23,
   "id": "agricultural-windsor",
   "metadata": {},
   "outputs": [
    {
     "data": {
      "text/plain": [
       "array([0., 0., 0., 0., 0., 0., 0., 0., 0., 0., 0., 0., 0., 0., 0., 0., 0.,\n",
       "       0., 0., 0., 0., 0., 0., 0., 0., 0., 0., 0., 0., 0., 0., 0., 0., 0.,\n",
       "       0., 0., 0., 0., 0., 0., 0., 0., 0., 0., 0., 0., 0., 0., 0., 0., 0.,\n",
       "       0., 0., 0., 0., 0., 0., 0., 0., 0., 0., 0., 0., 0., 0., 0., 0., 0.,\n",
       "       0., 0., 0., 0., 0., 0., 0., 0., 0., 0., 0., 0., 0., 0., 0., 0., 0.,\n",
       "       0., 0., 0., 0., 0., 0., 0., 0., 0., 0., 0., 0., 0., 0., 0., 0., 0.,\n",
       "       0., 0., 0., 0., 0., 0., 0., 0., 0., 0., 0., 0., 0., 0., 0., 0., 0.,\n",
       "       0., 0., 0., 0., 0., 0., 0., 0., 0., 0., 0., 0., 0., 0., 0., 0., 0.,\n",
       "       0., 0., 0., 0., 0., 0., 0., 0., 0., 0., 0., 0., 0., 0., 0., 0., 0.,\n",
       "       0., 0., 0., 0., 0., 0., 0., 0., 0., 0., 0., 0., 0., 0., 0., 0., 0.,\n",
       "       0., 0., 0., 0., 0., 0., 0., 0., 0., 0., 0., 0., 0., 0., 0., 0., 0.,\n",
       "       0., 0., 0., 0., 0., 0., 0., 0., 0., 0., 0., 0., 0., 0., 0., 0., 0.,\n",
       "       0., 0., 0., 0., 0., 0., 0., 0., 0., 0., 0., 0., 0., 0., 0., 0., 0.,\n",
       "       0., 0., 0., 0., 0., 0., 0., 0., 0., 0., 0., 0., 0., 0., 0., 0., 0.,\n",
       "       0., 0., 0., 0., 0., 0., 0., 0., 0., 0., 0., 0., 0., 0., 0., 0., 0.,\n",
       "       0., 0., 0., 0., 0., 0., 0., 0., 0., 0., 0., 0., 0., 0., 0., 0., 0.,\n",
       "       0., 0., 0., 0., 0., 0., 0., 0., 0., 0., 0., 0., 0., 0., 0., 0., 0.,\n",
       "       0., 0., 0., 0., 0., 0., 0., 0., 0., 0., 0.], dtype=float32)"
      ]
     },
     "execution_count": 23,
     "metadata": {},
     "output_type": "execute_result"
    }
   ],
   "source": [
    "bais"
   ]
  },
  {
   "cell_type": "markdown",
   "id": "express-frost",
   "metadata": {},
   "source": [
    "# Train model "
   ]
  },
  {
   "cell_type": "code",
   "execution_count": 25,
   "id": "commercial-discrimination",
   "metadata": {},
   "outputs": [],
   "source": [
    "model.compile(loss='sparse_categorical_crossentropy',optimizer='sgd', metrics = ['accuracy'])"
   ]
  },
  {
   "cell_type": "code",
   "execution_count": 26,
   "id": "pretty-reconstruction",
   "metadata": {},
   "outputs": [
    {
     "name": "stdout",
     "output_type": "stream",
     "text": [
      "Epoch 1/40\n",
      "1719/1719 [==============================] - 10s 5ms/step - loss: 0.9399 - accuracy: 0.6912 - val_loss: 0.4918 - val_accuracy: 0.8360\n",
      "Epoch 2/40\n",
      "1719/1719 [==============================] - 7s 4ms/step - loss: 0.4897 - accuracy: 0.8318 - val_loss: 0.4688 - val_accuracy: 0.8428\n",
      "Epoch 3/40\n",
      "1719/1719 [==============================] - 7s 4ms/step - loss: 0.4493 - accuracy: 0.8433 - val_loss: 0.4108 - val_accuracy: 0.8602\n",
      "Epoch 4/40\n",
      "1719/1719 [==============================] - 7s 4ms/step - loss: 0.4133 - accuracy: 0.8539 - val_loss: 0.3923 - val_accuracy: 0.8682\n",
      "Epoch 5/40\n",
      "1719/1719 [==============================] - 7s 4ms/step - loss: 0.3892 - accuracy: 0.8631 - val_loss: 0.3774 - val_accuracy: 0.8704\n",
      "Epoch 6/40\n",
      "1719/1719 [==============================] - 7s 4ms/step - loss: 0.3789 - accuracy: 0.8670 - val_loss: 0.3816 - val_accuracy: 0.8634\n",
      "Epoch 7/40\n",
      "1719/1719 [==============================] - 7s 4ms/step - loss: 0.3618 - accuracy: 0.8737 - val_loss: 0.3579 - val_accuracy: 0.8726\n",
      "Epoch 8/40\n",
      "1719/1719 [==============================] - 8s 5ms/step - loss: 0.3479 - accuracy: 0.8767 - val_loss: 0.3513 - val_accuracy: 0.8772\n",
      "Epoch 9/40\n",
      "1719/1719 [==============================] - 8s 4ms/step - loss: 0.3413 - accuracy: 0.8806 - val_loss: 0.3425 - val_accuracy: 0.8802\n",
      "Epoch 10/40\n",
      "1719/1719 [==============================] - 8s 5ms/step - loss: 0.3305 - accuracy: 0.8823 - val_loss: 0.3500 - val_accuracy: 0.8728\n",
      "Epoch 11/40\n",
      "1719/1719 [==============================] - 11s 6ms/step - loss: 0.3222 - accuracy: 0.8825 - val_loss: 0.3474 - val_accuracy: 0.8770\n",
      "Epoch 12/40\n",
      "1719/1719 [==============================] - 7s 4ms/step - loss: 0.3131 - accuracy: 0.8881 - val_loss: 0.3403 - val_accuracy: 0.8762\n",
      "Epoch 13/40\n",
      "1719/1719 [==============================] - 7s 4ms/step - loss: 0.3069 - accuracy: 0.8900 - val_loss: 0.3346 - val_accuracy: 0.8794\n",
      "Epoch 14/40\n",
      "1719/1719 [==============================] - 6s 4ms/step - loss: 0.3008 - accuracy: 0.8939 - val_loss: 0.3173 - val_accuracy: 0.8874\n",
      "Epoch 15/40\n",
      "1719/1719 [==============================] - 7s 4ms/step - loss: 0.2860 - accuracy: 0.8963 - val_loss: 0.3178 - val_accuracy: 0.8864\n",
      "Epoch 16/40\n",
      "1719/1719 [==============================] - 7s 4ms/step - loss: 0.2850 - accuracy: 0.8984 - val_loss: 0.3234 - val_accuracy: 0.8814\n",
      "Epoch 17/40\n",
      "1719/1719 [==============================] - 7s 4ms/step - loss: 0.2803 - accuracy: 0.8993 - val_loss: 0.3157 - val_accuracy: 0.8878\n",
      "Epoch 18/40\n",
      "1719/1719 [==============================] - 7s 4ms/step - loss: 0.2754 - accuracy: 0.9015 - val_loss: 0.3120 - val_accuracy: 0.8868\n",
      "Epoch 19/40\n",
      "1719/1719 [==============================] - 7s 4ms/step - loss: 0.2732 - accuracy: 0.9037 - val_loss: 0.3143 - val_accuracy: 0.8866\n",
      "Epoch 20/40\n",
      "1719/1719 [==============================] - 6s 4ms/step - loss: 0.2664 - accuracy: 0.9047 - val_loss: 0.3096 - val_accuracy: 0.8890\n",
      "Epoch 21/40\n",
      "1719/1719 [==============================] - 7s 4ms/step - loss: 0.2561 - accuracy: 0.9098 - val_loss: 0.3076 - val_accuracy: 0.8902\n",
      "Epoch 22/40\n",
      "1719/1719 [==============================] - 7s 4ms/step - loss: 0.2577 - accuracy: 0.9090 - val_loss: 0.3040 - val_accuracy: 0.8904\n",
      "Epoch 23/40\n",
      "1719/1719 [==============================] - 7s 4ms/step - loss: 0.2504 - accuracy: 0.9105 - val_loss: 0.3096 - val_accuracy: 0.8892\n",
      "Epoch 24/40\n",
      "1719/1719 [==============================] - 6s 4ms/step - loss: 0.2410 - accuracy: 0.9146 - val_loss: 0.3001 - val_accuracy: 0.8932\n",
      "Epoch 25/40\n",
      "1719/1719 [==============================] - 7s 4ms/step - loss: 0.2431 - accuracy: 0.9151 - val_loss: 0.3021 - val_accuracy: 0.8904\n",
      "Epoch 26/40\n",
      "1719/1719 [==============================] - 6s 4ms/step - loss: 0.2352 - accuracy: 0.9159 - val_loss: 0.2963 - val_accuracy: 0.8924\n",
      "Epoch 27/40\n",
      "1719/1719 [==============================] - 6s 4ms/step - loss: 0.2347 - accuracy: 0.9164 - val_loss: 0.3011 - val_accuracy: 0.8938\n",
      "Epoch 28/40\n",
      "1719/1719 [==============================] - 7s 4ms/step - loss: 0.2264 - accuracy: 0.9194 - val_loss: 0.3260 - val_accuracy: 0.8846\n",
      "Epoch 29/40\n",
      "1719/1719 [==============================] - 6s 4ms/step - loss: 0.2257 - accuracy: 0.9206 - val_loss: 0.3129 - val_accuracy: 0.8874\n",
      "Epoch 30/40\n",
      "1719/1719 [==============================] - 6s 4ms/step - loss: 0.2236 - accuracy: 0.9187 - val_loss: 0.2965 - val_accuracy: 0.8916\n",
      "Epoch 31/40\n",
      "1719/1719 [==============================] - 6s 4ms/step - loss: 0.2149 - accuracy: 0.9233 - val_loss: 0.3038 - val_accuracy: 0.8904\n",
      "Epoch 32/40\n",
      "1719/1719 [==============================] - 7s 4ms/step - loss: 0.2092 - accuracy: 0.9269 - val_loss: 0.2892 - val_accuracy: 0.8984\n",
      "Epoch 33/40\n",
      "1719/1719 [==============================] - 6s 4ms/step - loss: 0.2098 - accuracy: 0.9258 - val_loss: 0.3044 - val_accuracy: 0.8930\n",
      "Epoch 34/40\n",
      "1719/1719 [==============================] - 6s 4ms/step - loss: 0.2048 - accuracy: 0.9279 - val_loss: 0.3255 - val_accuracy: 0.8854\n",
      "Epoch 35/40\n",
      "1719/1719 [==============================] - 6s 4ms/step - loss: 0.2051 - accuracy: 0.9274 - val_loss: 0.3044 - val_accuracy: 0.8888\n",
      "Epoch 36/40\n",
      "1719/1719 [==============================] - 6s 4ms/step - loss: 0.2026 - accuracy: 0.9277 - val_loss: 0.2934 - val_accuracy: 0.8896\n",
      "Epoch 37/40\n",
      "1719/1719 [==============================] - 7s 4ms/step - loss: 0.1971 - accuracy: 0.9306 - val_loss: 0.2942 - val_accuracy: 0.8978\n",
      "Epoch 38/40\n",
      "1719/1719 [==============================] - 6s 4ms/step - loss: 0.1937 - accuracy: 0.9298 - val_loss: 0.3206 - val_accuracy: 0.8900\n",
      "Epoch 39/40\n",
      "1719/1719 [==============================] - 7s 4ms/step - loss: 0.1938 - accuracy: 0.9300 - val_loss: 0.2928 - val_accuracy: 0.8926\n",
      "Epoch 40/40\n",
      "1719/1719 [==============================] - 7s 4ms/step - loss: 0.1867 - accuracy: 0.9325 - val_loss: 0.2910 - val_accuracy: 0.8966\n"
     ]
    }
   ],
   "source": [
    "model_history = model.fit(x_train,y_train, epochs=40, validation_data=(x_valid,y_valid))"
   ]
  },
  {
   "cell_type": "code",
   "execution_count": 27,
   "id": "logical-radius",
   "metadata": {},
   "outputs": [
    {
     "data": {
      "text/plain": [
       "{'verbose': 1, 'epochs': 40, 'steps': 1719}"
      ]
     },
     "execution_count": 27,
     "metadata": {},
     "output_type": "execute_result"
    }
   ],
   "source": [
    "model_history.params"
   ]
  },
  {
   "cell_type": "code",
   "execution_count": 28,
   "id": "sufficient-orleans",
   "metadata": {},
   "outputs": [
    {
     "data": {
      "text/plain": [
       "[0,\n",
       " 1,\n",
       " 2,\n",
       " 3,\n",
       " 4,\n",
       " 5,\n",
       " 6,\n",
       " 7,\n",
       " 8,\n",
       " 9,\n",
       " 10,\n",
       " 11,\n",
       " 12,\n",
       " 13,\n",
       " 14,\n",
       " 15,\n",
       " 16,\n",
       " 17,\n",
       " 18,\n",
       " 19,\n",
       " 20,\n",
       " 21,\n",
       " 22,\n",
       " 23,\n",
       " 24,\n",
       " 25,\n",
       " 26,\n",
       " 27,\n",
       " 28,\n",
       " 29,\n",
       " 30,\n",
       " 31,\n",
       " 32,\n",
       " 33,\n",
       " 34,\n",
       " 35,\n",
       " 36,\n",
       " 37,\n",
       " 38,\n",
       " 39]"
      ]
     },
     "execution_count": 28,
     "metadata": {},
     "output_type": "execute_result"
    }
   ],
   "source": [
    "model_history.epoch"
   ]
  },
  {
   "cell_type": "code",
   "execution_count": 29,
   "id": "affecting-afternoon",
   "metadata": {},
   "outputs": [
    {
     "data": {
      "text/plain": [
       "{'loss': [0.6892237663269043,\n",
       "  0.4806155860424042,\n",
       "  0.43661701679229736,\n",
       "  0.41025710105895996,\n",
       "  0.3912814259529114,\n",
       "  0.37445011734962463,\n",
       "  0.3611578941345215,\n",
       "  0.3499325215816498,\n",
       "  0.3389259874820709,\n",
       "  0.329089879989624,\n",
       "  0.32020503282546997,\n",
       "  0.31261879205703735,\n",
       "  0.30527758598327637,\n",
       "  0.29935216903686523,\n",
       "  0.29297396540641785,\n",
       "  0.2864806056022644,\n",
       "  0.2802676260471344,\n",
       "  0.2750821113586426,\n",
       "  0.27101564407348633,\n",
       "  0.26439139246940613,\n",
       "  0.25986188650131226,\n",
       "  0.2549947500228882,\n",
       "  0.2501509189605713,\n",
       "  0.24567703902721405,\n",
       "  0.2420385628938675,\n",
       "  0.2379937320947647,\n",
       "  0.2338220179080963,\n",
       "  0.22957804799079895,\n",
       "  0.2261398732662201,\n",
       "  0.22173458337783813,\n",
       "  0.21937547624111176,\n",
       "  0.21533338725566864,\n",
       "  0.21208646893501282,\n",
       "  0.20867933332920074,\n",
       "  0.20485171675682068,\n",
       "  0.2013860046863556,\n",
       "  0.199246346950531,\n",
       "  0.1958410143852234,\n",
       "  0.19314450025558472,\n",
       "  0.18851514160633087],\n",
       " 'accuracy': [0.7706000208854675,\n",
       "  0.8330909013748169,\n",
       "  0.8474181890487671,\n",
       "  0.8552727103233337,\n",
       "  0.8620727062225342,\n",
       "  0.8682727217674255,\n",
       "  0.8719454407691956,\n",
       "  0.8761090636253357,\n",
       "  0.8794181942939758,\n",
       "  0.8828545212745667,\n",
       "  0.8843272924423218,\n",
       "  0.8884363770484924,\n",
       "  0.8909090757369995,\n",
       "  0.8927817940711975,\n",
       "  0.8944727182388306,\n",
       "  0.8965272903442383,\n",
       "  0.8985272645950317,\n",
       "  0.9014000296592712,\n",
       "  0.9030908942222595,\n",
       "  0.9050727486610413,\n",
       "  0.9070000052452087,\n",
       "  0.9089818000793457,\n",
       "  0.9107090830802917,\n",
       "  0.9123818278312683,\n",
       "  0.9148181676864624,\n",
       "  0.9149636626243591,\n",
       "  0.9164000153541565,\n",
       "  0.9180908799171448,\n",
       "  0.9190182089805603,\n",
       "  0.9211272597312927,\n",
       "  0.9217636585235596,\n",
       "  0.9238181710243225,\n",
       "  0.9252181649208069,\n",
       "  0.9258727431297302,\n",
       "  0.9273999929428101,\n",
       "  0.9276363849639893,\n",
       "  0.9287272691726685,\n",
       "  0.9298727512359619,\n",
       "  0.9306727051734924,\n",
       "  0.9319818019866943],\n",
       " 'val_loss': [0.49184271693229675,\n",
       "  0.46879488229751587,\n",
       "  0.41084712743759155,\n",
       "  0.39227986335754395,\n",
       "  0.37738004326820374,\n",
       "  0.38156282901763916,\n",
       "  0.35786470770835876,\n",
       "  0.35134002566337585,\n",
       "  0.34249982237815857,\n",
       "  0.35000914335250854,\n",
       "  0.34742072224617004,\n",
       "  0.34030142426490784,\n",
       "  0.33458319306373596,\n",
       "  0.3172511160373688,\n",
       "  0.31782227754592896,\n",
       "  0.3233740031719208,\n",
       "  0.31569185853004456,\n",
       "  0.31202319264411926,\n",
       "  0.31429147720336914,\n",
       "  0.3096255660057068,\n",
       "  0.3075934648513794,\n",
       "  0.30404508113861084,\n",
       "  0.3095857501029968,\n",
       "  0.3000885844230652,\n",
       "  0.3021259903907776,\n",
       "  0.2963056266307831,\n",
       "  0.3010667562484741,\n",
       "  0.3259870707988739,\n",
       "  0.31287816166877747,\n",
       "  0.29646238684654236,\n",
       "  0.3038404881954193,\n",
       "  0.289186030626297,\n",
       "  0.30438944697380066,\n",
       "  0.32552388310432434,\n",
       "  0.3044441044330597,\n",
       "  0.2933657765388489,\n",
       "  0.2941657602787018,\n",
       "  0.32055673003196716,\n",
       "  0.292842298746109,\n",
       "  0.29096701741218567],\n",
       " 'val_accuracy': [0.8360000252723694,\n",
       "  0.8428000211715698,\n",
       "  0.8601999878883362,\n",
       "  0.8682000041007996,\n",
       "  0.8704000115394592,\n",
       "  0.8633999824523926,\n",
       "  0.8726000189781189,\n",
       "  0.8772000074386597,\n",
       "  0.8802000284194946,\n",
       "  0.8727999925613403,\n",
       "  0.8769999742507935,\n",
       "  0.8762000203132629,\n",
       "  0.8794000148773193,\n",
       "  0.8873999714851379,\n",
       "  0.8863999843597412,\n",
       "  0.8813999891281128,\n",
       "  0.8877999782562256,\n",
       "  0.8867999911308289,\n",
       "  0.8866000175476074,\n",
       "  0.8889999985694885,\n",
       "  0.8902000188827515,\n",
       "  0.8903999924659729,\n",
       "  0.88919997215271,\n",
       "  0.8931999802589417,\n",
       "  0.8903999924659729,\n",
       "  0.8924000263214111,\n",
       "  0.8938000202178955,\n",
       "  0.8845999836921692,\n",
       "  0.8873999714851379,\n",
       "  0.8916000127792358,\n",
       "  0.8903999924659729,\n",
       "  0.8984000086784363,\n",
       "  0.8930000066757202,\n",
       "  0.8853999972343445,\n",
       "  0.8888000249862671,\n",
       "  0.8895999789237976,\n",
       "  0.8978000283241272,\n",
       "  0.8899999856948853,\n",
       "  0.8925999999046326,\n",
       "  0.8966000080108643]}"
      ]
     },
     "execution_count": 29,
     "metadata": {},
     "output_type": "execute_result"
    }
   ],
   "source": [
    "model_history.history"
   ]
  },
  {
   "cell_type": "code",
   "execution_count": 30,
   "id": "decreased-security",
   "metadata": {},
   "outputs": [
    {
     "data": {
      "image/png": "[encoded data removed]",
      "text/plain": [
       "<Figure size 576x360 with 1 Axes>"
      ]
     },
     "metadata": {
      "needs_background": "light"
     },
     "output_type": "display_data"
    }
   ],
   "source": [
    "pd.DataFrame(model_history.history).plot(figsize=(8,5))\n",
    "plt.grid(True)\n",
    "plt.gca().set_ylim(0,1)\n",
    "plt.show()"
   ]
  },
  {
   "cell_type": "markdown",
   "id": "about-teach",
   "metadata": {},
   "source": [
    "# Evaluating performance and Predicting using Keras"
   ]
  },
  {
   "cell_type": "code",
   "execution_count": 31,
   "id": "armed-identifier",
   "metadata": {},
   "outputs": [
    {
     "name": "stdout",
     "output_type": "stream",
     "text": [
      "313/313 [==============================] - 1s 3ms/step - loss: 0.3198 - accuracy: 0.8896\n"
     ]
    },
    {
     "data": {
      "text/plain": [
       "[0.31976333260536194, 0.8895999789237976]"
      ]
     },
     "execution_count": 31,
     "metadata": {},
     "output_type": "execute_result"
    }
   ],
   "source": [
    "model.evaluate(x_test,y_test)"
   ]
  },
  {
   "cell_type": "code",
   "execution_count": 32,
   "id": "happy-index",
   "metadata": {},
   "outputs": [
    {
     "name": "stdout",
     "output_type": "stream",
     "text": [
      "1719/1719 [==============================] - 4s 3ms/step - loss: 0.1755 - accuracy: 0.9395\n"
     ]
    },
    {
     "data": {
      "text/plain": [
       "[0.1755237877368927, 0.9394545555114746]"
      ]
     },
     "execution_count": 32,
     "metadata": {},
     "output_type": "execute_result"
    }
   ],
   "source": [
    "model.evaluate(x_train,y_train)"
   ]
  },
  {
   "cell_type": "code",
   "execution_count": 33,
   "id": "infinite-compensation",
   "metadata": {},
   "outputs": [
    {
     "data": {
      "text/plain": [
       "array([[[0., 0., 0., ..., 0., 0., 0.],\n",
       "        [0., 0., 0., ..., 0., 0., 0.],\n",
       "        [0., 0., 0., ..., 0., 0., 0.],\n",
       "        ...,\n",
       "        [0., 0., 0., ..., 0., 0., 0.],\n",
       "        [0., 0., 0., ..., 0., 0., 0.],\n",
       "        [0., 0., 0., ..., 0., 0., 0.]],\n",
       "\n",
       "       [[0., 0., 0., ..., 0., 0., 0.],\n",
       "        [0., 0., 0., ..., 0., 0., 0.],\n",
       "        [0., 0., 0., ..., 0., 0., 0.],\n",
       "        ...,\n",
       "        [0., 0., 0., ..., 0., 0., 0.],\n",
       "        [0., 0., 0., ..., 0., 0., 0.],\n",
       "        [0., 0., 0., ..., 0., 0., 0.]],\n",
       "\n",
       "       [[0., 0., 0., ..., 0., 0., 0.],\n",
       "        [0., 0., 0., ..., 0., 0., 0.],\n",
       "        [0., 0., 0., ..., 0., 0., 0.],\n",
       "        ...,\n",
       "        [0., 0., 0., ..., 0., 0., 0.],\n",
       "        [0., 0., 0., ..., 0., 0., 0.],\n",
       "        [0., 0., 0., ..., 0., 0., 0.]],\n",
       "\n",
       "       ...,\n",
       "\n",
       "       [[0., 0., 0., ..., 0., 0., 0.],\n",
       "        [0., 0., 0., ..., 0., 0., 0.],\n",
       "        [0., 0., 0., ..., 0., 0., 0.],\n",
       "        ...,\n",
       "        [0., 0., 0., ..., 0., 0., 0.],\n",
       "        [0., 0., 0., ..., 0., 0., 0.],\n",
       "        [0., 0., 0., ..., 0., 0., 0.]],\n",
       "\n",
       "       [[0., 0., 0., ..., 0., 0., 0.],\n",
       "        [0., 0., 0., ..., 0., 0., 0.],\n",
       "        [0., 0., 0., ..., 0., 0., 0.],\n",
       "        ...,\n",
       "        [0., 0., 0., ..., 0., 0., 0.],\n",
       "        [0., 0., 0., ..., 0., 0., 0.],\n",
       "        [0., 0., 0., ..., 0., 0., 0.]],\n",
       "\n",
       "       [[0., 0., 0., ..., 0., 0., 0.],\n",
       "        [0., 0., 0., ..., 0., 0., 0.],\n",
       "        [0., 0., 0., ..., 0., 0., 0.],\n",
       "        ...,\n",
       "        [0., 0., 0., ..., 0., 0., 0.],\n",
       "        [0., 0., 0., ..., 0., 0., 0.],\n",
       "        [0., 0., 0., ..., 0., 0., 0.]]])"
      ]
     },
     "execution_count": 33,
     "metadata": {},
     "output_type": "execute_result"
    }
   ],
   "source": [
    "x_test "
   ]
  },
  {
   "cell_type": "code",
   "execution_count": 34,
   "id": "marked-appliance",
   "metadata": {},
   "outputs": [],
   "source": [
    "x_new = x_test[:3]"
   ]
  },
  {
   "cell_type": "code",
   "execution_count": 35,
   "id": "bronze-device",
   "metadata": {},
   "outputs": [
    {
     "data": {
      "text/plain": [
       "array([[[0., 0., 0., ..., 0., 0., 0.],\n",
       "        [0., 0., 0., ..., 0., 0., 0.],\n",
       "        [0., 0., 0., ..., 0., 0., 0.],\n",
       "        ...,\n",
       "        [0., 0., 0., ..., 0., 0., 0.],\n",
       "        [0., 0., 0., ..., 0., 0., 0.],\n",
       "        [0., 0., 0., ..., 0., 0., 0.]],\n",
       "\n",
       "       [[0., 0., 0., ..., 0., 0., 0.],\n",
       "        [0., 0., 0., ..., 0., 0., 0.],\n",
       "        [0., 0., 0., ..., 0., 0., 0.],\n",
       "        ...,\n",
       "        [0., 0., 0., ..., 0., 0., 0.],\n",
       "        [0., 0., 0., ..., 0., 0., 0.],\n",
       "        [0., 0., 0., ..., 0., 0., 0.]],\n",
       "\n",
       "       [[0., 0., 0., ..., 0., 0., 0.],\n",
       "        [0., 0., 0., ..., 0., 0., 0.],\n",
       "        [0., 0., 0., ..., 0., 0., 0.],\n",
       "        ...,\n",
       "        [0., 0., 0., ..., 0., 0., 0.],\n",
       "        [0., 0., 0., ..., 0., 0., 0.],\n",
       "        [0., 0., 0., ..., 0., 0., 0.]]])"
      ]
     },
     "execution_count": 35,
     "metadata": {},
     "output_type": "execute_result"
    }
   ],
   "source": [
    "x_new"
   ]
  },
  {
   "cell_type": "code",
   "execution_count": 36,
   "id": "heavy-picnic",
   "metadata": {},
   "outputs": [
    {
     "data": {
      "text/plain": [
       "array([[0., 0., 0., 0., 0., 0., 0., 0., 0., 1.],\n",
       "       [0., 0., 1., 0., 0., 0., 0., 0., 0., 0.],\n",
       "       [0., 1., 0., 0., 0., 0., 0., 0., 0., 0.]], dtype=float32)"
      ]
     },
     "execution_count": 36,
     "metadata": {},
     "output_type": "execute_result"
    }
   ],
   "source": [
    "y_proda = model.predict(x_new)\n",
    "y_proda.round(2)"
   ]
  },
  {
   "cell_type": "code",
   "execution_count": 37,
   "id": "controlled-finland",
   "metadata": {},
   "outputs": [
    {
     "name": "stderr",
     "output_type": "stream",
     "text": [
      "C:\\Anaconda\\envs\\r-base\\lib\\site-packages\\tensorflow\\python\\keras\\engine\\sequential.py:450: UserWarning: `model.predict_classes()` is deprecated and will be removed after 2021-01-01. Please use instead:* `np.argmax(model.predict(x), axis=-1)`,   if your model does multi-class classification   (e.g. if it uses a `softmax` last-layer activation).* `(model.predict(x) > 0.5).astype(\"int32\")`,   if your model does binary classification   (e.g. if it uses a `sigmoid` last-layer activation).\n",
      "  warnings.warn('`model.predict_classes()` is deprecated and '\n"
     ]
    }
   ],
   "source": [
    "y_pred = model.predict_classes(x_new)"
   ]
  },
  {
   "cell_type": "code",
   "execution_count": 38,
   "id": "congressional-external",
   "metadata": {},
   "outputs": [
    {
     "data": {
      "text/plain": [
       "array([9, 2, 1], dtype=int64)"
      ]
     },
     "execution_count": 38,
     "metadata": {},
     "output_type": "execute_result"
    }
   ],
   "source": [
    "y_pred"
   ]
  },
  {
   "cell_type": "code",
   "execution_count": 39,
   "id": "better-flooring",
   "metadata": {},
   "outputs": [
    {
     "data": {
      "text/plain": [
       "array(['Ankle boot', 'Pullover', 'Trouser'], dtype='<U11')"
      ]
     },
     "execution_count": 39,
     "metadata": {},
     "output_type": "execute_result"
    }
   ],
   "source": [
    "np.array(class_names)[y_pred]"
   ]
  },
  {
   "cell_type": "code",
   "execution_count": 40,
   "id": "breeding-stability",
   "metadata": {},
   "outputs": [
    {
     "name": "stdout",
     "output_type": "stream",
     "text": [
      "AxesImage(54,36;334.8x217.44)\n"
     ]
    },
    {
     "data": {
      "image/png": "[encoded data removed]",
      "text/plain": [
       "<Figure size 432x288 with 1 Axes>"
      ]
     },
     "metadata": {
      "needs_background": "light"
     },
     "output_type": "display_data"
    }
   ],
   "source": [
    "\n",
    "print(plt.imshow(x_test[0]))"
   ]
  },
  {
   "cell_type": "code",
   "execution_count": 41,
   "id": "fluid-slovak",
   "metadata": {},
   "outputs": [
    {
     "name": "stdout",
     "output_type": "stream",
     "text": [
      "AxesImage(54,36;334.8x217.44)\n"
     ]
    },
    {
     "data": {
      "image/png": "[encoded data removed]",
      "text/plain": [
       "<Figure size 432x288 with 1 Axes>"
      ]
     },
     "metadata": {
      "needs_background": "light"
     },
     "output_type": "display_data"
    }
   ],
   "source": [
    "print(plt.imshow(x_test[1]))"
   ]
  },
  {
   "cell_type": "code",
   "execution_count": 42,
   "id": "revolutionary-tablet",
   "metadata": {},
   "outputs": [
    {
     "name": "stdout",
     "output_type": "stream",
     "text": [
      "AxesImage(54,36;334.8x217.44)\n"
     ]
    },
    {
     "data": {
      "image/png": "[encoded data removed]",
      "text/plain": [
       "<Figure size 432x288 with 1 Axes>"
      ]
     },
     "metadata": {
      "needs_background": "light"
     },
     "output_type": "display_data"
    }
   ],
   "source": [
    "print(plt.imshow(x_test[2]))"
   ]
  },
  {
   "cell_type": "code",
   "execution_count": null,
   "id": "mechanical-agenda",
   "metadata": {},
   "outputs": [],
   "source": []
  }
 ],
 "metadata": {
  "kernelspec": {
   "display_name": "Python 3",
   "language": "python",
   "name": "python3"
  },
  "language_info": {
   "codemirror_mode": {
    "name": "ipython",
    "version": 3
   },
   "file_extension": ".py",
   "mimetype": "text/x-python",
   "name": "python",
   "nbconvert_exporter": "python",
   "pygments_lexer": "ipython3",
   "version": "3.8.8"
  }
 },
 "nbformat": 4,
 "nbformat_minor": 5
}
