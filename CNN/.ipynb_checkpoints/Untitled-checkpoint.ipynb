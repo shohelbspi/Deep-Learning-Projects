{
 "cells": [
  {
   "cell_type": "code",
   "execution_count": 7,
   "id": "portuguese-gibraltar",
   "metadata": {},
   "outputs": [],
   "source": [
    "library(readr)\n",
    "library(keras)"
   ]
  },
  {
   "cell_type": "code",
   "execution_count": 9,
   "id": "fancy-beach",
   "metadata": {},
   "outputs": [],
   "source": [
    "fashion_mnist <- dataset_fashion_mnist()"
   ]
  },
  {
   "cell_type": "code",
   "execution_count": 10,
   "id": "incredible-diabetes",
   "metadata": {},
   "outputs": [],
   "source": [
    "c(train_image, train_label) %<-% fashion_mnist$train\n",
    "c(test_image, test_label) %<-% fashion_mnist$test"
   ]
  },
  {
   "cell_type": "code",
   "execution_count": null,
   "id": "banner-sierra",
   "metadata": {},
   "outputs": [],
   "source": [
    "train_image"
   ]
  },
  {
   "cell_type": "code",
   "execution_count": null,
   "id": "equipped-remedy",
   "metadata": {},
   "outputs": [],
   "source": [
    "train_label"
   ]
  },
  {
   "cell_type": "code",
   "execution_count": null,
   "id": "surrounded-approach",
   "metadata": {},
   "outputs": [],
   "source": []
  }
 ],
 "metadata": {
  "kernelspec": {
   "display_name": "R",
   "language": "R",
   "name": "ir"
  },
  "language_info": {
   "codemirror_mode": "r",
   "file_extension": ".r",
   "mimetype": "text/x-r-source",
   "name": "R",
   "pygments_lexer": "r",
   "version": "3.6.1"
  }
 },
 "nbformat": 4,
 "nbformat_minor": 5
}
