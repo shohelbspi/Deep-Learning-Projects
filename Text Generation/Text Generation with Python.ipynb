{
 "cells": [
  {
   "cell_type": "markdown",
   "id": "negative-endorsement",
   "metadata": {},
   "source": [
    "# Import all needed module in python"
   ]
  },
  {
   "cell_type": "code",
   "execution_count": 1,
   "id": "downtown-cover",
   "metadata": {},
   "outputs": [],
   "source": [
    "import numpy as np\n",
    "import pandas as pd\n",
    "import string,os\n",
    "from tensorflow.keras.models import Sequential\n",
    "from tensorflow.keras.layers import Embedding, LSTM, Dense, Dropout\n",
    "from tensorflow.keras.preprocessing.sequence import pad_sequences\n",
    "from tensorflow.keras.preprocessing.text import Tokenizer\n",
    "from tensorflow.keras.callbacks import EarlyStopping\n",
    "import tensorflow.keras.utils as ku\n",
    "import tensorflow \n",
    "tensorflow.random.set_seed(2)\n",
    "from numpy.random import seed\n",
    "seed(1)\n",
    "\n",
    "import warnings\n",
    "warnings.filterwarnings('ignore')\n",
    "warnings.simplefilter(action='ignore', category=FutureWarning)"
   ]
  },
  {
   "cell_type": "markdown",
   "id": "equivalent-rings",
   "metadata": {},
   "source": [
    "#  import data "
   ]
  },
  {
   "cell_type": "code",
   "execution_count": 2,
   "id": "prospective-russell",
   "metadata": {},
   "outputs": [],
   "source": [
    "path = 'data/'\n",
    "all_headlines = []\n",
    "\n",
    "for filename in os.listdir(path):\n",
    "    if 'Articles' in filename:\n",
    "        articels_df = pd.read_csv(path+filename)\n",
    "        all_headlines.extend(list(articels_df.headline.values))\n",
    "        break\n",
    "all_headlines = [x for x in all_headlines if x !='Unknown']"
   ]
  },
  {
   "cell_type": "code",
   "execution_count": 3,
   "id": "acknowledged-performance",
   "metadata": {},
   "outputs": [
    {
     "data": {
      "text/plain": [
       "831"
      ]
     },
     "execution_count": 3,
     "metadata": {},
     "output_type": "execute_result"
    }
   ],
   "source": [
    "len(all_headlines)"
   ]
  },
  {
   "cell_type": "markdown",
   "id": "coupled-combine",
   "metadata": {},
   "source": [
    "# some data clean"
   ]
  },
  {
   "cell_type": "code",
   "execution_count": 4,
   "id": "narrative-cyprus",
   "metadata": {},
   "outputs": [],
   "source": [
    "def clean_text(txt):\n",
    "    txt = ''.join(x for x in txt if x not in string.punctuation).lower()\n",
    "    txt = txt.encode('utf8').decode('ascii','ignore')\n",
    "    return txt\n",
    "corpus = [clean_text(x) for x in all_headlines]"
   ]
  },
  {
   "cell_type": "code",
   "execution_count": 5,
   "id": "hired-mixture",
   "metadata": {},
   "outputs": [
    {
     "data": {
      "text/plain": [
       "['finding an expansive view  of a forgotten people in niger',\n",
       " 'and now  the dreaded trump curse',\n",
       " 'venezuelas descent into dictatorship',\n",
       " 'stain permeates basketball blue blood',\n",
       " 'taking things for granted']"
      ]
     },
     "execution_count": 5,
     "metadata": {},
     "output_type": "execute_result"
    }
   ],
   "source": [
    "corpus[:5]"
   ]
  },
  {
   "cell_type": "code",
   "execution_count": 6,
   "id": "southwest-given",
   "metadata": {},
   "outputs": [],
   "source": [
    "tokenizer = Tokenizer()\n",
    "def genaret_sequences_of_text(corpus):\n",
    "    tokenizer.fit_on_texts(corpus)\n",
    "    total_words = len(tokenizer.word_index)+1\n",
    "    \n",
    "    input_sequences = []\n",
    "    \n",
    "    for line in corpus:\n",
    "        token_list = tokenizer.texts_to_sequences([line])[0]\n",
    "        for i in range(1, len(token_list)):\n",
    "            n_gram_sequences = token_list[:i+1]\n",
    "            input_sequences.append(n_gram_sequences)\n",
    "    return input_sequences, total_words"
   ]
  },
  {
   "cell_type": "code",
   "execution_count": 7,
   "id": "incorporate-checkout",
   "metadata": {},
   "outputs": [],
   "source": [
    "input_sequences, total_words = genaret_sequences_of_text(corpus)"
   ]
  },
  {
   "cell_type": "code",
   "execution_count": 8,
   "id": "rational-college",
   "metadata": {},
   "outputs": [
    {
     "data": {
      "text/plain": [
       "2422"
      ]
     },
     "execution_count": 8,
     "metadata": {},
     "output_type": "execute_result"
    }
   ],
   "source": [
    "total_words"
   ]
  },
  {
   "cell_type": "code",
   "execution_count": 9,
   "id": "molecular-background",
   "metadata": {},
   "outputs": [],
   "source": [
    "def genaret_pad_sequences(input_sequences):\n",
    "    max_sequences_len = max([len(x) for x in input_sequences])\n",
    "    input_sequences = np.array(pad_sequences(input_sequences, maxlen=max_sequences_len,padding='pre'))\n",
    "    \n",
    "    predictor, labels = input_sequences[:,:-1], input_sequences[:,-1]\n",
    "    labels = ku.to_categorical(labels, num_classes=total_words)\n",
    "    \n",
    "    return predictor, labels, max_sequences_len"
   ]
  },
  {
   "cell_type": "code",
   "execution_count": 10,
   "id": "union-bidder",
   "metadata": {},
   "outputs": [],
   "source": [
    "predictor, labels, max_sequences_len = genaret_pad_sequences(input_sequences)"
   ]
  },
  {
   "cell_type": "code",
   "execution_count": 11,
   "id": "textile-suspect",
   "metadata": {},
   "outputs": [
    {
     "data": {
      "text/plain": [
       "19"
      ]
     },
     "execution_count": 11,
     "metadata": {},
     "output_type": "execute_result"
    }
   ],
   "source": [
    "max_sequences_len"
   ]
  },
  {
   "cell_type": "markdown",
   "id": "placed-perth",
   "metadata": {},
   "source": [
    "# Create a model "
   ]
  },
  {
   "cell_type": "code",
   "execution_count": 12,
   "id": "subject-equation",
   "metadata": {},
   "outputs": [],
   "source": [
    "def create_model(max_sequences_len, total_words):\n",
    "    input_len = max_sequences_len-1\n",
    "    \n",
    "    model = Sequential()\n",
    "    \n",
    "    model.add(Embedding(total_words, 64, input_length=input_len))\n",
    "    \n",
    "    model.add(LSTM(100))\n",
    "    model.add(Dropout(0.1))\n",
    "    \n",
    "    model.add(Dense(total_words,activation='softmax'))\n",
    "    \n",
    "    model.compile(loss='categorical_crossentropy', optimizer='adam')\n",
    "    \n",
    "    return model\n",
    "\n",
    "model = create_model(max_sequences_len, total_words )"
   ]
  },
  {
   "cell_type": "code",
   "execution_count": 13,
   "id": "computational-courtesy",
   "metadata": {},
   "outputs": [
    {
     "name": "stdout",
     "output_type": "stream",
     "text": [
      "Model: \"sequential\"\n",
      "_________________________________________________________________\n",
      "Layer (type)                 Output Shape              Param #   \n",
      "=================================================================\n",
      "embedding (Embedding)        (None, 18, 64)            155008    \n",
      "_________________________________________________________________\n",
      "lstm (LSTM)                  (None, 100)               66000     \n",
      "_________________________________________________________________\n",
      "dropout (Dropout)            (None, 100)               0         \n",
      "_________________________________________________________________\n",
      "dense (Dense)                (None, 2422)              244622    \n",
      "=================================================================\n",
      "Total params: 465,630\n",
      "Trainable params: 465,630\n",
      "Non-trainable params: 0\n",
      "_________________________________________________________________\n"
     ]
    }
   ],
   "source": [
    "model.summary()"
   ]
  },
  {
   "cell_type": "code",
   "execution_count": 14,
   "id": "variable-rating",
   "metadata": {},
   "outputs": [
    {
     "name": "stdout",
     "output_type": "stream",
     "text": [
      "Epoch 1/100\n",
      "Epoch 2/100\n",
      "Epoch 3/100\n",
      "Epoch 4/100\n",
      "Epoch 5/100\n",
      "Epoch 6/100\n",
      "Epoch 7/100\n",
      "Epoch 8/100\n",
      "Epoch 9/100\n",
      "Epoch 10/100\n",
      "Epoch 11/100\n",
      "Epoch 12/100\n",
      "Epoch 13/100\n",
      "Epoch 14/100\n",
      "Epoch 15/100\n",
      "Epoch 16/100\n",
      "Epoch 17/100\n",
      "Epoch 18/100\n",
      "Epoch 19/100\n",
      "Epoch 20/100\n",
      "Epoch 21/100\n",
      "Epoch 22/100\n",
      "Epoch 23/100\n",
      "Epoch 24/100\n",
      "Epoch 25/100\n",
      "Epoch 26/100\n",
      "Epoch 27/100\n",
      "Epoch 28/100\n",
      "Epoch 29/100\n",
      "Epoch 30/100\n",
      "Epoch 31/100\n",
      "Epoch 32/100\n",
      "Epoch 33/100\n",
      "Epoch 34/100\n",
      "Epoch 35/100\n",
      "Epoch 36/100\n",
      "Epoch 37/100\n",
      "Epoch 38/100\n",
      "Epoch 39/100\n",
      "Epoch 40/100\n",
      "Epoch 41/100\n",
      "Epoch 42/100\n",
      "Epoch 43/100\n",
      "Epoch 44/100\n",
      "Epoch 45/100\n",
      "Epoch 46/100\n",
      "Epoch 47/100\n",
      "Epoch 48/100\n",
      "Epoch 49/100\n",
      "Epoch 50/100\n",
      "Epoch 51/100\n",
      "Epoch 52/100\n",
      "Epoch 53/100\n",
      "Epoch 54/100\n",
      "Epoch 55/100\n",
      "Epoch 56/100\n",
      "Epoch 57/100\n",
      "Epoch 58/100\n",
      "Epoch 59/100\n",
      "Epoch 60/100\n",
      "Epoch 61/100\n",
      "Epoch 62/100\n",
      "Epoch 63/100\n",
      "Epoch 64/100\n",
      "Epoch 65/100\n",
      "Epoch 66/100\n",
      "Epoch 67/100\n",
      "Epoch 68/100\n",
      "Epoch 69/100\n",
      "Epoch 70/100\n",
      "Epoch 71/100\n",
      "Epoch 72/100\n",
      "Epoch 73/100\n",
      "Epoch 74/100\n",
      "Epoch 75/100\n",
      "Epoch 76/100\n",
      "Epoch 77/100\n",
      "Epoch 78/100\n",
      "Epoch 79/100\n",
      "Epoch 80/100\n",
      "Epoch 81/100\n",
      "Epoch 82/100\n",
      "Epoch 83/100\n",
      "Epoch 84/100\n",
      "Epoch 85/100\n",
      "Epoch 86/100\n",
      "Epoch 87/100\n",
      "Epoch 88/100\n",
      "Epoch 89/100\n",
      "Epoch 90/100\n",
      "Epoch 91/100\n",
      "Epoch 92/100\n",
      "Epoch 93/100\n",
      "Epoch 94/100\n",
      "Epoch 95/100\n",
      "Epoch 96/100\n",
      "Epoch 97/100\n",
      "Epoch 98/100\n",
      "Epoch 99/100\n",
      "Epoch 100/100\n"
     ]
    },
    {
     "data": {
      "text/plain": [
       "<tensorflow.python.keras.callbacks.History at 0x1bd7f409f10>"
      ]
     },
     "execution_count": 14,
     "metadata": {},
     "output_type": "execute_result"
    }
   ],
   "source": [
    "model.fit(predictor, labels, epochs=100, verbose=5)"
   ]
  },
  {
   "cell_type": "code",
   "execution_count": 15,
   "id": "adapted-spice",
   "metadata": {},
   "outputs": [],
   "source": [
    "def test_model(seed_text, next_word, model, max_sequences_len):\n",
    "    for _ in range(next_word):\n",
    "        token_list = tokenizer.texts_to_sequences([seed_text])[0]\n",
    "        token_list = pad_sequences([token_list], maxlen=max_sequences_len-1,padding='pre', )\n",
    "        predict = model.predict_classes(token_list, verbose=0)\n",
    "    \n",
    "        output = ''\n",
    "        for word, index in tokenizer.word_index.items():\n",
    "            if index==predict:\n",
    "                output = word\n",
    "                break\n",
    "        seed_text += \" \"+output\n",
    "    \n",
    "    return seed_text.title()"
   ]
  },
  {
   "cell_type": "code",
   "execution_count": 17,
   "id": "pressed-messenger",
   "metadata": {},
   "outputs": [
    {
     "name": "stdout",
     "output_type": "stream",
     "text": [
      "Shohel Lament Trumps Silence On Health\n",
      "Shakib Lament Trumps Silence On Health Plan\n",
      "Husna Lament Trumps Silence On Health Plan But On Solar Not Littering Arctic Waters But On Your Future Ignites Hot Hot Hot Him Him Think At Door End Him Him Him Him Him Him Him Him Him Him Him Him Are Are Are Flying At Any Allowed Industry Attack On Charging Allowed Person Over Niger About Days Over Can About Him Him Him Him Him Him Him Him Him Like All Are Coal Win At Him Him About In An Menu About At An Cross Hairs Thats Hairs Tough Him Him Him Him Flying Him Him Him Him Him Flying Him\n"
     ]
    }
   ],
   "source": [
    "print(test_model('shohel', 5, model,max_sequences_len ))\n",
    "print(test_model('shakib', 6, model,max_sequences_len ))\n",
    "print(test_model('Husna', 100, model,max_sequences_len ))"
   ]
  },
  {
   "cell_type": "code",
   "execution_count": 20,
   "id": "dental-migration",
   "metadata": {},
   "outputs": [
    {
     "name": "stdout",
     "output_type": "stream",
     "text": [
      "Riya Khan Lament Trumps Silence On Health Plan But On Solar Not\n"
     ]
    }
   ],
   "source": [
    "print(test_model('', 10, model,max_sequences_len ))"
   ]
  },
  {
   "cell_type": "code",
   "execution_count": null,
   "id": "sorted-merchant",
   "metadata": {},
   "outputs": [],
   "source": []
  }
 ],
 "metadata": {
  "kernelspec": {
   "display_name": "Python 3",
   "language": "python",
   "name": "python3"
  },
  "language_info": {
   "codemirror_mode": {
    "name": "ipython",
    "version": 3
   },
   "file_extension": ".py",
   "mimetype": "text/x-python",
   "name": "python",
   "nbconvert_exporter": "python",
   "pygments_lexer": "ipython3",
   "version": "3.8.8"
  }
 },
 "nbformat": 4,
 "nbformat_minor": 5
}
